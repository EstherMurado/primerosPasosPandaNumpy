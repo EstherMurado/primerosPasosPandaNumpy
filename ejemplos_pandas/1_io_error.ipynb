{
 "cells": [
  {
   "cell_type": "code",
   "execution_count": 2,
   "id": "9befc0d7-9ae7-497f-b1b0-059a2130847d",
   "metadata": {
    "scrolled": true
   },
   "outputs": [
    {
     "name": "stdout",
     "output_type": "stream",
     "text": [
      "     name  price         label\n",
      "0  banana  2.500  Banana $2.50\n",
      "1   grape  5.356   Grape $5.36\n",
      "2   apple  4.990   Apple $4.99\n"
     ]
    }
   ],
   "source": [
    "import pandas as pd\n",
    "from decimal import Decimal\n",
    "import io\n",
    "\n",
    "\"\"\"\n",
    "Apply a function to each row of a DataFrame to create a new column\n",
    "\n",
    "\"\"\"\n",
    "\n",
    "def create_price_label(row):\n",
    "    price = Decimal(row['price'])\n",
    "    price = round(price, 2)\n",
    "    return row['name'].title() + \" $\" + str(price)\n",
    "\n",
    "fruit_price = r\"\"\"name,price\n",
    "banana,2.5\n",
    "grape,5.356\n",
    "apple,4.99\n",
    "\"\"\"\n",
    "\n",
    "df = pd.read_csv(io.StringIO(fruit_price))\n",
    "df['label'] = df.apply(create_price_label, axis=1)\n",
    "\n",
    "\"axis 1 es por filas, axis 0 es por columnas\"\n",
    "\n",
    "print(df)"
   ]
  },
  {
   "cell_type": "code",
   "execution_count": 4,
   "id": "eccf59b6-e396-4aa6-b489-56082dbd2aef",
   "metadata": {
    "scrolled": true
   },
   "outputs": [
    {
     "name": "stdout",
     "output_type": "stream",
     "text": [
      "       city state\n",
      "0    Sydney   NSW\n",
      "1  Brisbane   QLD\n",
      "2     Perth    SA\n"
     ]
    }
   ],
   "source": [
    "import pandas as pd\n",
    "import io\n",
    "\n",
    "city = r\"\"\"city,state\n",
    "sydney,nsw\n",
    "brisbane,qld\n",
    "perth,sa\n",
    "\"\"\"\n",
    "\n",
    "df = pd.read_csv(io.StringIO(city))\n",
    "\n",
    "df['state'] = df['state'].apply(lambda x: x.upper())\n",
    "df['city'] = df['city'].apply(lambda x: x.title())\n",
    "print(df)"
   ]
  },
  {
   "cell_type": "code",
   "execution_count": 7,
   "id": "081854bf-9c36-407b-807b-59138ba18f7d",
   "metadata": {
    "scrolled": true
   },
   "outputs": [
    {
     "name": "stdout",
     "output_type": "stream",
     "text": [
      "         date weather\n",
      "0  2018-03-04   sunny\n",
      "1  2018-03-05   sunny\n",
      "2  2018-03-06   sunny\n"
     ]
    }
   ],
   "source": [
    "import pandas as pd\n",
    "import io\n",
    "\n",
    "str_data = r\"\"\"\n",
    "date,weather\n",
    "2018-03-04,sunny\n",
    "2018-03-05,sunny\n",
    "2018-03-06,sunny\n",
    "\"\"\"\n",
    "df = pd.read_csv(io.StringIO(str_data))\n",
    "\n",
    "assert (df['weather'] == 'sunny').all(), \"Values are not the same in the column\"\n",
    "print(df)"
   ]
  },
  {
   "cell_type": "code",
   "execution_count": 3,
   "id": "7bdf1ed7-59ae-4efb-b2d5-b3865f77d693",
   "metadata": {},
   "outputs": [
    {
     "name": "stdout",
     "output_type": "stream",
     "text": [
      "              x    y\n",
      "date                \n",
      "2016-12-31  0.0  2.0\n",
      "2017-01-01  1.0  2.0\n",
      "2017-01-02  2.0  2.0\n",
      "2017-01-03  3.0  2.0\n",
      "2017-01-04  4.0  2.0\n",
      "2017-01-05  5.0  2.0\n",
      "2017-01-06  6.0  3.0\n",
      "2017-01-07  7.0  3.0\n",
      "2017-01-08  8.0  4.0\n",
      "2017-01-09  9.0  4.0\n",
      "              x    y\n",
      "date                \n",
      "2016-12-31  0.0  2.0\n",
      "2017-01-01 -1.0  2.0\n",
      "2017-01-02 -1.0  2.0\n",
      "2017-01-03  3.0  2.0\n",
      "2017-01-04  4.0  2.0\n",
      "2017-01-05  5.0  2.0\n",
      "2017-01-06  6.0  3.0\n",
      "2017-01-07  7.0  3.0\n",
      "2017-01-08  8.0  4.0\n",
      "2017-01-09  9.0  4.0\n",
      "              x    y\n",
      "date                \n",
      "2016-12-31  0.0  2.0\n",
      "2017-01-01  1.0  2.0\n",
      "2017-01-02  2.0  2.0\n",
      "2017-01-03  3.0  2.0\n",
      "2017-01-04  4.0  2.0\n",
      "2017-01-05  5.0  2.0\n",
      "2017-01-06  6.0  3.0\n",
      "2017-01-07  7.0  3.0\n",
      "2017-01-08  8.0  4.0\n",
      "2017-01-09  9.0  4.0\n",
      "              x    y\n",
      "date                \n",
      "2016-12-31  0.0  2.0\n",
      "2017-01-01  1.0  2.0\n",
      "2017-01-02  2.0  2.0\n",
      "2017-01-03  3.0  2.0\n",
      "2017-01-04  4.0  2.0\n",
      "2017-01-05  5.0  2.0\n",
      "2017-01-06  NaN  3.0\n",
      "2017-01-07  NaN  3.0\n",
      "2017-01-08  NaN  4.0\n",
      "2017-01-09  NaN  4.0\n"
     ]
    }
   ],
   "source": [
    "import numpy as np\n",
    "import pandas as pd\n",
    "import matplotlib.pyplot as plt\n",
    "import seaborn as sns\n",
    "import io\n",
    "from scipy.stats import norm, binom\n",
    "\n",
    "\"\"\"\n",
    "https://en.wikipedia.org/wiki/Quantile\n",
    "\n",
    "\"\"\"\n",
    "\n",
    "# make data\n",
    "str_data = r\"\"\"date,x,y\n",
    "2016-12-31,0,2\n",
    "2017-01-01,1,2\n",
    "2017-01-02,2,2 \n",
    "2017-01-03,3,2\n",
    "2017-01-04,4,2\n",
    "2017-01-05,5,2\n",
    "2017-01-06,6,3\n",
    "2017-01-07,7,3\n",
    "2017-01-08,8,4\n",
    "2017-01-09,9,4\n",
    "\"\"\"\n",
    "df = pd.read_csv(io.StringIO(str_data))\n",
    "df.set_index(['date'], inplace=True)\n",
    "\n",
    "df['x'] = df['x'].astype(float)\n",
    "df['y'] = df['y'].astype(float)\n",
    "\n",
    "df_copy = df.copy()\n",
    "\n",
    "# replace - 1\n",
    "print(df)\n",
    "mask = (df['x'] > 0.0) & (df['x'] < 3.0)\n",
    "df.loc[mask, 'x'] = -1\n",
    "print(df)\n",
    "\n",
    "# replace - 2\n",
    "print(df_copy)\n",
    "df_copy['x'] = np.where((df_copy['y'] == 3.0) | (df_copy['y'] == 4.0), np.nan, df_copy['x'])\n",
    "print(df_copy)"
   ]
  }
 ],
 "metadata": {
  "kernelspec": {
   "display_name": "Python 3 (ipykernel)",
   "language": "python",
   "name": "python3"
  },
  "language_info": {
   "codemirror_mode": {
    "name": "ipython",
    "version": 3
   },
   "file_extension": ".py",
   "mimetype": "text/x-python",
   "name": "python",
   "nbconvert_exporter": "python",
   "pygments_lexer": "ipython3",
   "version": "3.12.2"
  }
 },
 "nbformat": 4,
 "nbformat_minor": 5
}
